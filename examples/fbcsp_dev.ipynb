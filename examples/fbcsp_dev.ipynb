{
 "cells": [
  {
   "cell_type": "code",
   "execution_count": 1,
   "metadata": {},
   "outputs": [
    {
     "name": "stderr",
     "output_type": "stream",
     "text": [
      "/Users/milsagw1/repos/git/hololight/env/lib/python3.8/site-packages/tqdm/auto.py:22: TqdmWarning: IProgress not found. Please update jupyter and ipywidgets. See https://ipywidgets.readthedocs.io/en/stable/user_install.html\n",
      "  from .autonotebook import tqdm as notebook_tqdm\n"
     ]
    },
    {
     "name": "stdout",
     "output_type": "stream",
     "text": [
      "467\n",
      "Sequential(\n",
      "  (ensuredims): Ensure4d()\n",
      "  (dimshuffle): Expression(expression=_transpose_time_to_spat)\n",
      "  (conv_time): Conv2d(1, 40, kernel_size=(25, 1), stride=(1, 1))\n",
      "  (conv_spat): Conv2d(40, 40, kernel_size=(1, 8), stride=(1, 1), bias=False)\n",
      "  (bnorm): BatchNorm2d(40, eps=1e-05, momentum=0.1, affine=True, track_running_stats=True)\n",
      "  (conv_nonlin): Expression(expression=square)\n",
      "  (pool): AvgPool2d(kernel_size=(75, 1), stride=(1, 1), padding=0)\n",
      "  (pool_nonlin): Expression(expression=safe_log)\n",
      "  (drop): Dropout(p=0.5, inplace=False)\n",
      "  (conv_classifier): Conv2d(40, 2, kernel_size=(30, 1), stride=(1, 1), dilation=(15, 1))\n",
      "  (softmax): LogSoftmax(dim=1)\n",
      "  (squeeze): Expression(expression=_squeeze_final_output)\n",
      ")\n",
      "torch.Size([1, 2, 167])\n"
     ]
    }
   ],
   "source": [
    "from hololight.shallowfbcspnet import ShallowFBCSPNet, get_output_shape\n",
    "\n",
    "\n",
    "\n",
    "net = ShallowFBCSPNet(\n",
    "    in_chans = 8,\n",
    "    n_classes = 2,\n",
    "    input_time_length = 1000,\n",
    "    cropped_training = True,\n",
    "    n_filters_time = 40,\n",
    "    filter_time_length = 25,\n",
    "    n_filters_spat = 40,\n",
    "    pool_time_length = 75,\n",
    "    pool_time_stride = 15,\n",
    "    conv_nonlin = 'square',\n",
    "    pool_mode = 'mean',\n",
    "    pool_nonlin = 'safe_log',\n",
    "    split_first_layer = True,\n",
    "    batch_norm = True,\n",
    "    batch_norm_alpha = 0.1,\n",
    "    drop_prob = 0.5,\n",
    ")\n",
    "\n",
    "model = net.construct()\n",
    "print( model )\n",
    "print( get_output_shape( \n",
    "    model, \n",
    "    in_chans = net.in_chans, \n",
    "    input_window_samples = 700\n",
    ") )\n"
   ]
  },
  {
   "cell_type": "code",
   "execution_count": null,
   "metadata": {},
   "outputs": [],
   "source": []
  }
 ],
 "metadata": {
  "kernelspec": {
   "display_name": "Python 3.8.9 ('env': venv)",
   "language": "python",
   "name": "python3"
  },
  "language_info": {
   "codemirror_mode": {
    "name": "ipython",
    "version": 3
   },
   "file_extension": ".py",
   "mimetype": "text/x-python",
   "name": "python",
   "nbconvert_exporter": "python",
   "pygments_lexer": "ipython3",
   "version": "3.8.9"
  },
  "orig_nbformat": 4,
  "vscode": {
   "interpreter": {
    "hash": "ed258a9152e085ee7311268e121aa17c6767ee64cbeeaf73a64058897dead45f"
   }
  }
 },
 "nbformat": 4,
 "nbformat_minor": 2
}
